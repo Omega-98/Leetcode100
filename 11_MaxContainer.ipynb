{
 "cells": [
  {
   "cell_type": "code",
   "execution_count": null,
   "id": "dcc5a70e",
   "metadata": {},
   "outputs": [],
   "source": [
    "\"\"\"First Version\n",
    "class Solution:\n",
    "    def MaxContain(self, numbers: List[int], target: int) -> int:\n",
    "        left = 0\n",
    "        right = len(numbers) - 1\n",
    "        while right > left:\n",
    "            volume = (right - left) * min(numbers[left], numbers[right])\n",
    "            if numbers[left] < numbers[right]:\n",
    "                left += 1\n",
    "            elif numbers[left] > numbers[right]:\n",
    "                right -= 1\n",
    "            volume_update = (right - left) * min(numbers[left], numbers[right])\n",
    "            if volume_update > volume:\n",
    "                volume = volume_update\n",
    "            else: \n",
    "                continue\n",
    "        return volume            \n",
    "\"\"\"   \n",
    "class Solution:\n",
    "    def MaxContain(self, numbers: List[int], target: int) -> int:\n",
    "        ans = 0\n",
    "        left = 0\n",
    "        right = len(numbers) - 1\n",
    "        while right > left:\n",
    "            volume = (right - left) * min(numbers[left], numbers[right])\n",
    "            ans = max(volume, ans)\n",
    "            if numbers[left] < numbers[right]:\n",
    "                left += 1\n",
    "            else:\n",
    "                right -= 1\n",
    "        return ans"
   ]
  }
 ],
 "metadata": {
  "language_info": {
   "name": "python"
  }
 },
 "nbformat": 4,
 "nbformat_minor": 5
}

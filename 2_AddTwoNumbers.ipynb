{
 "cells": [
  {
   "cell_type": "code",
   "execution_count": null,
   "id": "dcc5a70e",
   "metadata": {},
   "outputs": [],
   "source": [
    "class Solution:\n",
    "    def TwoSum(self, numbers: List[int], target: int) -> List[int]:\n",
    "        i = 0\n",
    "        j = len(numbers)\n",
    "        while True:\n",
    "            if numbers[i] + numbers[j] > target:\n",
    "                j -= 1\n",
    "            elif numbers[i] + numbers[j] < target:\n",
    "                i += 1\n",
    "            elif numbers[i] + numbers[j] == target:\n",
    "                break\n",
    "        return [i, j]\n",
    "    "
   ]
  }
 ],
 "metadata": {
  "language_info": {
   "name": "python"
  }
 },
 "nbformat": 4,
 "nbformat_minor": 5
}

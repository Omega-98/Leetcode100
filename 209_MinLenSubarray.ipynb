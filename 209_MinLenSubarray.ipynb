{
 "cells": [
  {
   "cell_type": "code",
   "execution_count": null,
   "id": "dcc5a70e",
   "metadata": {},
   "outputs": [
    {
     "data": {
      "text/plain": [
       "2"
      ]
     },
     "execution_count": 14,
     "metadata": {},
     "output_type": "execute_result"
    }
   ],
   "source": [
    "\n",
    "\"\"\"def minSubArrayLen(numbers: list[int], target: int) -> int:\n",
    "    n = len(numbers)\n",
    "    i = 0\n",
    "    j = 1\n",
    "    sub_sum = 0\n",
    "    ans = n\n",
    "    for number in numbers[i:j + 1]:\n",
    "        sub_sum += number\n",
    "        while sub_sum > target or sub_sum == target:\n",
    "            ans = min(j - i, ans)\n",
    "            i += 1\n",
    "        while sub_sum < target:\n",
    "            j += 1\n",
    "    return ans\n",
    "\"\"\"\n",
    "def minSubArrayLen(numbers: list[int], target: int) -> int:\n",
    "    sum = 0\n",
    "    i = 0\n",
    "    ans = len(numbers) + 114514 #注意要先初始化ans的值\n",
    "    for j, number in enumerate(numbers):\n",
    "        sum += number\n",
    "        while sum - numbers[i] >= target: #要让右边扩展的同时，左边也根据子数组的情况收缩\n",
    "            sum -= numbers[i]\n",
    "            i += 1\n",
    "        if sum >= target:\n",
    "            ans = min(j - i + 1, ans) \n",
    "    if ans == len(numbers) + 114514:\n",
    "        ans = 0\n",
    "    return ans\n"
   ]
  },
  {
   "cell_type": "code",
   "execution_count": null,
   "id": "2ec15787",
   "metadata": {},
   "outputs": [
    {
     "ename": "TypeError",
     "evalue": "minSubArrayLen() missing 1 required positional argument: 'target'",
     "output_type": "error",
     "traceback": [
      "\u001b[31m---------------------------------------------------------------------------\u001b[39m",
      "\u001b[31mTypeError\u001b[39m                                 Traceback (most recent call last)",
      "\u001b[36mCell\u001b[39m\u001b[36m \u001b[39m\u001b[32mIn[5]\u001b[39m\u001b[32m, line 3\u001b[39m\n\u001b[32m      1\u001b[39m target = \u001b[32m7\u001b[39m\n\u001b[32m      2\u001b[39m numbers = [\u001b[32m2\u001b[39m,\u001b[32m3\u001b[39m,\u001b[32m1\u001b[39m,\u001b[32m2\u001b[39m,\u001b[32m4\u001b[39m,\u001b[32m3\u001b[39m]\n\u001b[32m----> \u001b[39m\u001b[32m3\u001b[39m \u001b[43mminSubArrayLen\u001b[49m\u001b[43m(\u001b[49m\u001b[43mnumbers\u001b[49m\u001b[43m,\u001b[49m\u001b[43m \u001b[49m\u001b[43mtarget\u001b[49m\u001b[43m)\u001b[49m\n",
      "\u001b[31mTypeError\u001b[39m: minSubArrayLen() missing 1 required positional argument: 'target'"
     ]
    }
   ],
   "source": []
  },
  {
   "cell_type": "code",
   "execution_count": null,
   "id": "214d86e5",
   "metadata": {},
   "outputs": [],
   "source": []
  }
 ],
 "metadata": {
  "kernelspec": {
   "display_name": "Python 3",
   "language": "python",
   "name": "python3"
  },
  "language_info": {
   "codemirror_mode": {
    "name": "ipython",
    "version": 3
   },
   "file_extension": ".py",
   "mimetype": "text/x-python",
   "name": "python",
   "nbconvert_exporter": "python",
   "pygments_lexer": "ipython3",
   "version": "3.13.5"
  }
 },
 "nbformat": 4,
 "nbformat_minor": 5
}

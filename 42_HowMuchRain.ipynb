{
 "cells": [
  {
   "cell_type": "code",
   "execution_count": null,
   "id": "dcc5a70e",
   "metadata": {},
   "outputs": [],
   "source": [
    "class Solution:\n",
    "    def trap(self, height: List[int], target: int) -> int:\n",
    "        n = len(height)\n",
    "        pre_max = [0] * n\n",
    "        pre_max[0] = height[0]\n",
    "        for i in range(1, n):\n",
    "            pre_max[i] = max(pre_max[i - 1], height[i])\n",
    "        suf_max = [0] * n\n",
    "        suf_max[0] = height[0]\n",
    "        for j in range(n - 2, -1, -1):\n",
    "            suf_max[j] = max(suf_max[j + 1], height[j])\n",
    "        ans = 0\n",
    "        for h, pre, suf in zip(height, pre_max, suf_max):\n",
    "            ans += min(pre, suf) - h\n",
    "        return ans"
   ]
  }
 ],
 "metadata": {
  "language_info": {
   "name": "python"
  }
 },
 "nbformat": 4,
 "nbformat_minor": 5
}
